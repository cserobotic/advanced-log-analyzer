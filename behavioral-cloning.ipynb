{
 "cells": [
  {
   "cell_type": "code",
   "execution_count": 1,
   "metadata": {
    "collapsed": true
   },
   "outputs": [],
   "source": [
    "import numpy as np\n",
    "import pandas as pd\n",
    "import tensorflow as tf\n",
    "# import matplotlib.pyplot as plt"
   ]
  },
  {
   "cell_type": "code",
   "execution_count": 93,
   "outputs": [
    {
     "data": {
      "text/plain": "   cycle     mode   ball_x   ball_y  ball_vx  ball_vy  ball_area     my_x  \\\n0    421  play_on -26.4266 -28.4263  -1.8165   0.4374          1 -40.6874   \n1    422  play_on -28.2004 -27.9994  -1.6675   0.4013          1 -40.9578   \n2    423  play_on -29.8278 -27.5923  -1.5297   0.3826          1 -41.2283   \n3    424  play_on -31.3757 -27.2134  -1.4551   0.3562          1 -41.5153   \n4    425  play_on -32.8175 -26.8181  -1.3553   0.3716          1 -41.8329   \n\n     my_y   my_vx  ...  opp_player_4_kick  opp_player_4_dist  \\\n0 -5.3881 -0.0766  ...                  0          29.220594   \n1 -6.1488 -0.1082  ...                  0          29.738884   \n2 -7.0106 -0.1082  ...                  0          28.885839   \n3 -7.9394 -0.1148  ...                  0          28.603467   \n4 -8.7905 -0.1270  ...                  0          28.318141   \n\n   opp_player_4_area  opp_player_5_x  opp_player_5_y  opp_player_5_vx  \\\n0                  0        -20.7132        -29.4389          -0.2120   \n1                  0        -21.4979        -29.2106          -0.2911   \n2                  0        -22.9478         17.4070          -0.0603   \n3                  0        -23.4223         16.9508          -0.1954   \n4                  0        -23.9871         16.3070          -0.2325   \n\n   opp_player_5_vy  opp_player_5_kick  opp_player_5_dist  opp_player_5_area  \n0           0.0566                  0          31.263551                  0  \n1           0.0847                  0          30.175061                  0  \n2           0.0012                  0          30.502391                  0  \n3          -0.1878                  0          30.771394                  0  \n4          -0.2650                  0          30.795407                  0  \n\n[5 rows x 98 columns]",
      "text/html": "<div>\n<style scoped>\n    .dataframe tbody tr th:only-of-type {\n        vertical-align: middle;\n    }\n\n    .dataframe tbody tr th {\n        vertical-align: top;\n    }\n\n    .dataframe thead th {\n        text-align: right;\n    }\n</style>\n<table border=\"1\" class=\"dataframe\">\n  <thead>\n    <tr style=\"text-align: right;\">\n      <th></th>\n      <th>cycle</th>\n      <th>mode</th>\n      <th>ball_x</th>\n      <th>ball_y</th>\n      <th>ball_vx</th>\n      <th>ball_vy</th>\n      <th>ball_area</th>\n      <th>my_x</th>\n      <th>my_y</th>\n      <th>my_vx</th>\n      <th>...</th>\n      <th>opp_player_4_kick</th>\n      <th>opp_player_4_dist</th>\n      <th>opp_player_4_area</th>\n      <th>opp_player_5_x</th>\n      <th>opp_player_5_y</th>\n      <th>opp_player_5_vx</th>\n      <th>opp_player_5_vy</th>\n      <th>opp_player_5_kick</th>\n      <th>opp_player_5_dist</th>\n      <th>opp_player_5_area</th>\n    </tr>\n  </thead>\n  <tbody>\n    <tr>\n      <th>0</th>\n      <td>421</td>\n      <td>play_on</td>\n      <td>-26.4266</td>\n      <td>-28.4263</td>\n      <td>-1.8165</td>\n      <td>0.4374</td>\n      <td>1</td>\n      <td>-40.6874</td>\n      <td>-5.3881</td>\n      <td>-0.0766</td>\n      <td>...</td>\n      <td>0</td>\n      <td>29.220594</td>\n      <td>0</td>\n      <td>-20.7132</td>\n      <td>-29.4389</td>\n      <td>-0.2120</td>\n      <td>0.0566</td>\n      <td>0</td>\n      <td>31.263551</td>\n      <td>0</td>\n    </tr>\n    <tr>\n      <th>1</th>\n      <td>422</td>\n      <td>play_on</td>\n      <td>-28.2004</td>\n      <td>-27.9994</td>\n      <td>-1.6675</td>\n      <td>0.4013</td>\n      <td>1</td>\n      <td>-40.9578</td>\n      <td>-6.1488</td>\n      <td>-0.1082</td>\n      <td>...</td>\n      <td>0</td>\n      <td>29.738884</td>\n      <td>0</td>\n      <td>-21.4979</td>\n      <td>-29.2106</td>\n      <td>-0.2911</td>\n      <td>0.0847</td>\n      <td>0</td>\n      <td>30.175061</td>\n      <td>0</td>\n    </tr>\n    <tr>\n      <th>2</th>\n      <td>423</td>\n      <td>play_on</td>\n      <td>-29.8278</td>\n      <td>-27.5923</td>\n      <td>-1.5297</td>\n      <td>0.3826</td>\n      <td>1</td>\n      <td>-41.2283</td>\n      <td>-7.0106</td>\n      <td>-0.1082</td>\n      <td>...</td>\n      <td>0</td>\n      <td>28.885839</td>\n      <td>0</td>\n      <td>-22.9478</td>\n      <td>17.4070</td>\n      <td>-0.0603</td>\n      <td>0.0012</td>\n      <td>0</td>\n      <td>30.502391</td>\n      <td>0</td>\n    </tr>\n    <tr>\n      <th>3</th>\n      <td>424</td>\n      <td>play_on</td>\n      <td>-31.3757</td>\n      <td>-27.2134</td>\n      <td>-1.4551</td>\n      <td>0.3562</td>\n      <td>1</td>\n      <td>-41.5153</td>\n      <td>-7.9394</td>\n      <td>-0.1148</td>\n      <td>...</td>\n      <td>0</td>\n      <td>28.603467</td>\n      <td>0</td>\n      <td>-23.4223</td>\n      <td>16.9508</td>\n      <td>-0.1954</td>\n      <td>-0.1878</td>\n      <td>0</td>\n      <td>30.771394</td>\n      <td>0</td>\n    </tr>\n    <tr>\n      <th>4</th>\n      <td>425</td>\n      <td>play_on</td>\n      <td>-32.8175</td>\n      <td>-26.8181</td>\n      <td>-1.3553</td>\n      <td>0.3716</td>\n      <td>1</td>\n      <td>-41.8329</td>\n      <td>-8.7905</td>\n      <td>-0.1270</td>\n      <td>...</td>\n      <td>0</td>\n      <td>28.318141</td>\n      <td>0</td>\n      <td>-23.9871</td>\n      <td>16.3070</td>\n      <td>-0.2325</td>\n      <td>-0.2650</td>\n      <td>0</td>\n      <td>30.795407</td>\n      <td>0</td>\n    </tr>\n  </tbody>\n</table>\n<p>5 rows × 98 columns</p>\n</div>"
     },
     "execution_count": 93,
     "metadata": {},
     "output_type": "execute_result"
    }
   ],
   "source": [
    "df = pd.read_csv('log.csv')\n",
    "df.head()"
   ],
   "metadata": {
    "collapsed": false
   }
  },
  {
   "cell_type": "markdown",
   "source": [
    "one-hot encode the mode column"
   ],
   "metadata": {
    "collapsed": false
   }
  },
  {
   "cell_type": "code",
   "execution_count": 94,
   "outputs": [
    {
     "data": {
      "text/plain": "      ball_x     ball_y  ball_vx  ball_vy  ball_area       my_x    my_y  \\\n0 -26.426600 -28.426300  -1.8165   0.4374        1.0 -40.687401 -5.3881   \n1 -28.200399 -27.999399  -1.6675   0.4013        1.0 -40.957802 -6.1488   \n2 -29.827801 -27.592300  -1.5297   0.3826        1.0 -41.228298 -7.0106   \n3 -31.375700 -27.213400  -1.4551   0.3562        1.0 -41.515301 -7.9394   \n4 -32.817501 -26.818100  -1.3553   0.3716        1.0 -41.832901 -8.7905   \n\n    my_vx   my_vy  my_dash_power  ...  mode_foul_charge_r  mode_free_kick_l  \\\n0 -0.0766 -0.2327          100.0  ...                 0.0               0.0   \n1 -0.1082 -0.3043          100.0  ...                 0.0               0.0   \n2 -0.1082 -0.3447          100.0  ...                 0.0               0.0   \n3 -0.1148 -0.3715          100.0  ...                 0.0               0.0   \n4 -0.1270 -0.3404          100.0  ...                 0.0               0.0   \n\n   mode_free_kick_r  mode_goal_kick_l  mode_goal_r  mode_indirect_free_kick_r  \\\n0               0.0               0.0          0.0                        0.0   \n1               0.0               0.0          0.0                        0.0   \n2               0.0               0.0          0.0                        0.0   \n3               0.0               0.0          0.0                        0.0   \n4               0.0               0.0          0.0                        0.0   \n\n   mode_kick_in_l  mode_kick_in_r  mode_offside_r  mode_play_on  \n0             0.0             0.0             0.0           1.0  \n1             0.0             0.0             0.0           1.0  \n2             0.0             0.0             0.0           1.0  \n3             0.0             0.0             0.0           1.0  \n4             0.0             0.0             0.0           1.0  \n\n[5 rows x 109 columns]",
      "text/html": "<div>\n<style scoped>\n    .dataframe tbody tr th:only-of-type {\n        vertical-align: middle;\n    }\n\n    .dataframe tbody tr th {\n        vertical-align: top;\n    }\n\n    .dataframe thead th {\n        text-align: right;\n    }\n</style>\n<table border=\"1\" class=\"dataframe\">\n  <thead>\n    <tr style=\"text-align: right;\">\n      <th></th>\n      <th>ball_x</th>\n      <th>ball_y</th>\n      <th>ball_vx</th>\n      <th>ball_vy</th>\n      <th>ball_area</th>\n      <th>my_x</th>\n      <th>my_y</th>\n      <th>my_vx</th>\n      <th>my_vy</th>\n      <th>my_dash_power</th>\n      <th>...</th>\n      <th>mode_foul_charge_r</th>\n      <th>mode_free_kick_l</th>\n      <th>mode_free_kick_r</th>\n      <th>mode_goal_kick_l</th>\n      <th>mode_goal_r</th>\n      <th>mode_indirect_free_kick_r</th>\n      <th>mode_kick_in_l</th>\n      <th>mode_kick_in_r</th>\n      <th>mode_offside_r</th>\n      <th>mode_play_on</th>\n    </tr>\n  </thead>\n  <tbody>\n    <tr>\n      <th>0</th>\n      <td>-26.426600</td>\n      <td>-28.426300</td>\n      <td>-1.8165</td>\n      <td>0.4374</td>\n      <td>1.0</td>\n      <td>-40.687401</td>\n      <td>-5.3881</td>\n      <td>-0.0766</td>\n      <td>-0.2327</td>\n      <td>100.0</td>\n      <td>...</td>\n      <td>0.0</td>\n      <td>0.0</td>\n      <td>0.0</td>\n      <td>0.0</td>\n      <td>0.0</td>\n      <td>0.0</td>\n      <td>0.0</td>\n      <td>0.0</td>\n      <td>0.0</td>\n      <td>1.0</td>\n    </tr>\n    <tr>\n      <th>1</th>\n      <td>-28.200399</td>\n      <td>-27.999399</td>\n      <td>-1.6675</td>\n      <td>0.4013</td>\n      <td>1.0</td>\n      <td>-40.957802</td>\n      <td>-6.1488</td>\n      <td>-0.1082</td>\n      <td>-0.3043</td>\n      <td>100.0</td>\n      <td>...</td>\n      <td>0.0</td>\n      <td>0.0</td>\n      <td>0.0</td>\n      <td>0.0</td>\n      <td>0.0</td>\n      <td>0.0</td>\n      <td>0.0</td>\n      <td>0.0</td>\n      <td>0.0</td>\n      <td>1.0</td>\n    </tr>\n    <tr>\n      <th>2</th>\n      <td>-29.827801</td>\n      <td>-27.592300</td>\n      <td>-1.5297</td>\n      <td>0.3826</td>\n      <td>1.0</td>\n      <td>-41.228298</td>\n      <td>-7.0106</td>\n      <td>-0.1082</td>\n      <td>-0.3447</td>\n      <td>100.0</td>\n      <td>...</td>\n      <td>0.0</td>\n      <td>0.0</td>\n      <td>0.0</td>\n      <td>0.0</td>\n      <td>0.0</td>\n      <td>0.0</td>\n      <td>0.0</td>\n      <td>0.0</td>\n      <td>0.0</td>\n      <td>1.0</td>\n    </tr>\n    <tr>\n      <th>3</th>\n      <td>-31.375700</td>\n      <td>-27.213400</td>\n      <td>-1.4551</td>\n      <td>0.3562</td>\n      <td>1.0</td>\n      <td>-41.515301</td>\n      <td>-7.9394</td>\n      <td>-0.1148</td>\n      <td>-0.3715</td>\n      <td>100.0</td>\n      <td>...</td>\n      <td>0.0</td>\n      <td>0.0</td>\n      <td>0.0</td>\n      <td>0.0</td>\n      <td>0.0</td>\n      <td>0.0</td>\n      <td>0.0</td>\n      <td>0.0</td>\n      <td>0.0</td>\n      <td>1.0</td>\n    </tr>\n    <tr>\n      <th>4</th>\n      <td>-32.817501</td>\n      <td>-26.818100</td>\n      <td>-1.3553</td>\n      <td>0.3716</td>\n      <td>1.0</td>\n      <td>-41.832901</td>\n      <td>-8.7905</td>\n      <td>-0.1270</td>\n      <td>-0.3404</td>\n      <td>100.0</td>\n      <td>...</td>\n      <td>0.0</td>\n      <td>0.0</td>\n      <td>0.0</td>\n      <td>0.0</td>\n      <td>0.0</td>\n      <td>0.0</td>\n      <td>0.0</td>\n      <td>0.0</td>\n      <td>0.0</td>\n      <td>1.0</td>\n    </tr>\n  </tbody>\n</table>\n<p>5 rows × 109 columns</p>\n</div>"
     },
     "execution_count": 94,
     "metadata": {},
     "output_type": "execute_result"
    }
   ],
   "source": [
    "df = pd.get_dummies(df, columns=['mode']).astype('float32')\n",
    "df = df.astype('float32')\n",
    "df = df.drop('cycle', axis=1)\n",
    "df.head()"
   ],
   "metadata": {
    "collapsed": false
   }
  },
  {
   "cell_type": "markdown",
   "source": [
    "normalize the data"
   ],
   "metadata": {
    "collapsed": false
   }
  },
  {
   "cell_type": "code",
   "execution_count": 95,
   "outputs": [],
   "source": [
    "for col in df.columns:\n",
    "    if col != 'my_dash_power' and col != 'my_dash_dir' and col != 'my_turn':\n",
    "        df[col] = (df[col] - df[col].min()) / (df[col].max() - df[col].min())"
   ],
   "metadata": {
    "collapsed": false
   }
  },
  {
   "cell_type": "markdown",
   "source": [
    "split the data into train and test"
   ],
   "metadata": {
    "collapsed": false
   }
  },
  {
   "cell_type": "code",
   "execution_count": 96,
   "outputs": [],
   "source": [
    "train = df.sample(frac=0.8, random_state=200)"
   ],
   "metadata": {
    "collapsed": false
   }
  },
  {
   "cell_type": "markdown",
   "source": [
    "split the data into train and validation"
   ],
   "metadata": {
    "collapsed": false
   }
  },
  {
   "cell_type": "code",
   "execution_count": 97,
   "outputs": [
    {
     "data": {
      "text/plain": "         ball_x    ball_y   ball_vx   ball_vy  ball_area      my_x      my_y  \\\n71589  0.971587  0.699369  0.375538  0.487628   0.333333  0.429493  0.632545   \n34897  0.145410  0.846977  0.484202  0.407590   0.666667  0.126713  0.643489   \n71431  0.229355  0.998804  0.494190  0.501477   0.666667  0.143500  0.645084   \n41764  0.875269  0.806967  0.700593  0.245082   0.333333  0.261055  0.609565   \n7596   0.998483  0.001081  0.494190  0.501477   0.333333  0.333459  0.416931   \n\n          my_vx     my_vy  my_dash_power  ...  mode_foul_charge_r  \\\n71589  0.345225  0.460793          100.0  ...                 0.0   \n34897  0.502596  0.496011            0.0  ...                 0.0   \n71431  0.502596  0.496011            0.0  ...                 0.0   \n41764  0.570558  0.461249          100.0  ...                 0.0   \n7596   0.355724  0.492706            0.0  ...                 0.0   \n\n       mode_free_kick_l  mode_free_kick_r  mode_goal_kick_l  mode_goal_r  \\\n71589               0.0               0.0               0.0          0.0   \n34897               0.0               0.0               0.0          0.0   \n71431               0.0               0.0               0.0          0.0   \n41764               0.0               0.0               0.0          0.0   \n7596                0.0               0.0               0.0          0.0   \n\n       mode_indirect_free_kick_r  mode_kick_in_l  mode_kick_in_r  \\\n71589                        0.0             0.0             0.0   \n34897                        0.0             0.0             0.0   \n71431                        0.0             0.0             1.0   \n41764                        0.0             0.0             0.0   \n7596                         0.0             0.0             1.0   \n\n       mode_offside_r  mode_play_on  \n71589             0.0           1.0  \n34897             0.0           1.0  \n71431             0.0           0.0  \n41764             0.0           1.0  \n7596              0.0           0.0  \n\n[5 rows x 109 columns]",
      "text/html": "<div>\n<style scoped>\n    .dataframe tbody tr th:only-of-type {\n        vertical-align: middle;\n    }\n\n    .dataframe tbody tr th {\n        vertical-align: top;\n    }\n\n    .dataframe thead th {\n        text-align: right;\n    }\n</style>\n<table border=\"1\" class=\"dataframe\">\n  <thead>\n    <tr style=\"text-align: right;\">\n      <th></th>\n      <th>ball_x</th>\n      <th>ball_y</th>\n      <th>ball_vx</th>\n      <th>ball_vy</th>\n      <th>ball_area</th>\n      <th>my_x</th>\n      <th>my_y</th>\n      <th>my_vx</th>\n      <th>my_vy</th>\n      <th>my_dash_power</th>\n      <th>...</th>\n      <th>mode_foul_charge_r</th>\n      <th>mode_free_kick_l</th>\n      <th>mode_free_kick_r</th>\n      <th>mode_goal_kick_l</th>\n      <th>mode_goal_r</th>\n      <th>mode_indirect_free_kick_r</th>\n      <th>mode_kick_in_l</th>\n      <th>mode_kick_in_r</th>\n      <th>mode_offside_r</th>\n      <th>mode_play_on</th>\n    </tr>\n  </thead>\n  <tbody>\n    <tr>\n      <th>71589</th>\n      <td>0.971587</td>\n      <td>0.699369</td>\n      <td>0.375538</td>\n      <td>0.487628</td>\n      <td>0.333333</td>\n      <td>0.429493</td>\n      <td>0.632545</td>\n      <td>0.345225</td>\n      <td>0.460793</td>\n      <td>100.0</td>\n      <td>...</td>\n      <td>0.0</td>\n      <td>0.0</td>\n      <td>0.0</td>\n      <td>0.0</td>\n      <td>0.0</td>\n      <td>0.0</td>\n      <td>0.0</td>\n      <td>0.0</td>\n      <td>0.0</td>\n      <td>1.0</td>\n    </tr>\n    <tr>\n      <th>34897</th>\n      <td>0.145410</td>\n      <td>0.846977</td>\n      <td>0.484202</td>\n      <td>0.407590</td>\n      <td>0.666667</td>\n      <td>0.126713</td>\n      <td>0.643489</td>\n      <td>0.502596</td>\n      <td>0.496011</td>\n      <td>0.0</td>\n      <td>...</td>\n      <td>0.0</td>\n      <td>0.0</td>\n      <td>0.0</td>\n      <td>0.0</td>\n      <td>0.0</td>\n      <td>0.0</td>\n      <td>0.0</td>\n      <td>0.0</td>\n      <td>0.0</td>\n      <td>1.0</td>\n    </tr>\n    <tr>\n      <th>71431</th>\n      <td>0.229355</td>\n      <td>0.998804</td>\n      <td>0.494190</td>\n      <td>0.501477</td>\n      <td>0.666667</td>\n      <td>0.143500</td>\n      <td>0.645084</td>\n      <td>0.502596</td>\n      <td>0.496011</td>\n      <td>0.0</td>\n      <td>...</td>\n      <td>0.0</td>\n      <td>0.0</td>\n      <td>0.0</td>\n      <td>0.0</td>\n      <td>0.0</td>\n      <td>0.0</td>\n      <td>0.0</td>\n      <td>1.0</td>\n      <td>0.0</td>\n      <td>0.0</td>\n    </tr>\n    <tr>\n      <th>41764</th>\n      <td>0.875269</td>\n      <td>0.806967</td>\n      <td>0.700593</td>\n      <td>0.245082</td>\n      <td>0.333333</td>\n      <td>0.261055</td>\n      <td>0.609565</td>\n      <td>0.570558</td>\n      <td>0.461249</td>\n      <td>100.0</td>\n      <td>...</td>\n      <td>0.0</td>\n      <td>0.0</td>\n      <td>0.0</td>\n      <td>0.0</td>\n      <td>0.0</td>\n      <td>0.0</td>\n      <td>0.0</td>\n      <td>0.0</td>\n      <td>0.0</td>\n      <td>1.0</td>\n    </tr>\n    <tr>\n      <th>7596</th>\n      <td>0.998483</td>\n      <td>0.001081</td>\n      <td>0.494190</td>\n      <td>0.501477</td>\n      <td>0.333333</td>\n      <td>0.333459</td>\n      <td>0.416931</td>\n      <td>0.355724</td>\n      <td>0.492706</td>\n      <td>0.0</td>\n      <td>...</td>\n      <td>0.0</td>\n      <td>0.0</td>\n      <td>0.0</td>\n      <td>0.0</td>\n      <td>0.0</td>\n      <td>0.0</td>\n      <td>0.0</td>\n      <td>1.0</td>\n      <td>0.0</td>\n      <td>0.0</td>\n    </tr>\n  </tbody>\n</table>\n<p>5 rows × 109 columns</p>\n</div>"
     },
     "execution_count": 97,
     "metadata": {},
     "output_type": "execute_result"
    }
   ],
   "source": [
    "validation = df.drop(train.index)\n",
    "train.head()"
   ],
   "metadata": {
    "collapsed": false
   }
  },
  {
   "cell_type": "markdown",
   "source": [
    "add layers to the model"
   ],
   "metadata": {
    "collapsed": false
   }
  },
  {
   "cell_type": "code",
   "execution_count": 98,
   "outputs": [],
   "source": [
    "model = tf.keras.models.Sequential([\n",
    "    tf.keras.layers.Dense(256, activation='relu', input_shape=(len(df.columns) - 3,)),\n",
    "    tf.keras.layers.Dense(128, activation='relu'),\n",
    "    tf.keras.layers.Dense(256, activation='relu'),\n",
    "    tf.keras.layers.Dropout(0.2),  # drop 20% of the neurons\n",
    "    tf.keras.layers.Dense(128, activation='relu'),\n",
    "    tf.keras.layers.Dense(64, activation='relu'),\n",
    "    tf.keras.layers.Dropout(0.2),  # drop 20% of the neurons\n",
    "    tf.keras.layers.Dense(32, activation='relu'),\n",
    "    tf.keras.layers.Dense(32, activation='relu'),\n",
    "    tf.keras.layers.Dense(3, activation='linear')\n",
    "])"
   ],
   "metadata": {
    "collapsed": false
   }
  },
  {
   "cell_type": "code",
   "execution_count": 99,
   "outputs": [],
   "source": [
    "model.compile(optimizer='adam', loss='mse')"
   ],
   "metadata": {
    "collapsed": false
   }
  },
  {
   "cell_type": "code",
   "execution_count": 100,
   "outputs": [
    {
     "name": "stdout",
     "output_type": "stream",
     "text": [
      "Epoch 1/100\n",
      "2002/2002 [==============================] - 3s 1ms/step - loss: 1592.8442 - val_loss: 1516.0833\n",
      "Epoch 2/100\n",
      "2002/2002 [==============================] - 3s 1ms/step - loss: 1528.9968 - val_loss: 1469.1289\n",
      "Epoch 3/100\n",
      "2002/2002 [==============================] - 3s 1ms/step - loss: 1503.0374 - val_loss: 1470.6202\n",
      "Epoch 4/100\n",
      "2002/2002 [==============================] - 3s 1ms/step - loss: 1489.7552 - val_loss: 1455.1908\n",
      "Epoch 5/100\n",
      "2002/2002 [==============================] - 3s 1ms/step - loss: 1483.6923 - val_loss: 1475.4335\n",
      "Epoch 6/100\n",
      "2002/2002 [==============================] - 3s 1ms/step - loss: 1476.3219 - val_loss: 1443.6859\n",
      "Epoch 7/100\n",
      "2002/2002 [==============================] - 3s 1ms/step - loss: 1469.3901 - val_loss: 1444.5623\n",
      "Epoch 8/100\n",
      "2002/2002 [==============================] - 3s 1ms/step - loss: 1467.6996 - val_loss: 1433.5996\n",
      "Epoch 9/100\n",
      "2002/2002 [==============================] - 3s 1ms/step - loss: 1462.9568 - val_loss: 1433.6307\n",
      "Epoch 10/100\n",
      "2002/2002 [==============================] - 3s 1ms/step - loss: 1458.2587 - val_loss: 1424.4475\n",
      "Epoch 11/100\n",
      "2002/2002 [==============================] - 3s 1ms/step - loss: 1451.8832 - val_loss: 1442.2257\n",
      "Epoch 12/100\n",
      "2002/2002 [==============================] - 3s 1ms/step - loss: 1448.7264 - val_loss: 1443.6432\n",
      "Epoch 13/100\n",
      "2002/2002 [==============================] - 3s 1ms/step - loss: 1441.7234 - val_loss: 1415.4407\n",
      "Epoch 14/100\n",
      "2002/2002 [==============================] - 3s 1ms/step - loss: 1438.0115 - val_loss: 1424.7268\n",
      "Epoch 15/100\n",
      "2002/2002 [==============================] - 3s 1ms/step - loss: 1431.2900 - val_loss: 1420.3049\n",
      "Epoch 16/100\n",
      "2002/2002 [==============================] - 3s 1ms/step - loss: 1428.7240 - val_loss: 1401.5725\n",
      "Epoch 17/100\n",
      "2002/2002 [==============================] - 3s 1ms/step - loss: 1425.8932 - val_loss: 1422.2708\n",
      "Epoch 18/100\n",
      "2002/2002 [==============================] - 3s 1ms/step - loss: 1422.3945 - val_loss: 1410.3057\n",
      "Epoch 19/100\n",
      "2002/2002 [==============================] - 3s 1ms/step - loss: 1420.5536 - val_loss: 1419.5955\n",
      "Epoch 20/100\n",
      "2002/2002 [==============================] - 3s 1ms/step - loss: 1417.6554 - val_loss: 1394.1332\n",
      "Epoch 21/100\n",
      "2002/2002 [==============================] - 3s 1ms/step - loss: 1411.7012 - val_loss: 1391.9205\n",
      "Epoch 22/100\n",
      "2002/2002 [==============================] - 3s 2ms/step - loss: 1407.5292 - val_loss: 1394.0302\n",
      "Epoch 23/100\n",
      "2002/2002 [==============================] - 3s 2ms/step - loss: 1403.6467 - val_loss: 1402.3746\n",
      "Epoch 24/100\n",
      "2002/2002 [==============================] - 3s 1ms/step - loss: 1402.9910 - val_loss: 1413.7440\n",
      "Epoch 25/100\n",
      "2002/2002 [==============================] - 3s 1ms/step - loss: 1395.8486 - val_loss: 1405.6783\n",
      "Epoch 26/100\n",
      "2002/2002 [==============================] - 3s 2ms/step - loss: 1392.0166 - val_loss: 1400.0889\n",
      "Epoch 27/100\n",
      "2002/2002 [==============================] - 3s 2ms/step - loss: 1390.1086 - val_loss: 1408.8527\n",
      "Epoch 28/100\n",
      "2002/2002 [==============================] - 3s 1ms/step - loss: 1386.5032 - val_loss: 1390.8160\n",
      "Epoch 29/100\n",
      "2002/2002 [==============================] - 3s 1ms/step - loss: 1386.1278 - val_loss: 1392.9460\n",
      "Epoch 30/100\n",
      "2002/2002 [==============================] - 3s 1ms/step - loss: 1380.3065 - val_loss: 1409.7737\n",
      "Epoch 31/100\n",
      "2002/2002 [==============================] - 3s 1ms/step - loss: 1377.0199 - val_loss: 1404.5250\n",
      "Epoch 32/100\n",
      "2002/2002 [==============================] - 3s 1ms/step - loss: 1373.7124 - val_loss: 1419.7932\n",
      "Epoch 33/100\n",
      "2002/2002 [==============================] - 3s 1ms/step - loss: 1373.2140 - val_loss: 1397.3907\n",
      "Epoch 34/100\n",
      "2002/2002 [==============================] - 3s 1ms/step - loss: 1367.2483 - val_loss: 1401.8569\n",
      "Epoch 35/100\n",
      "2002/2002 [==============================] - 3s 2ms/step - loss: 1364.4686 - val_loss: 1433.4395\n",
      "Epoch 36/100\n",
      "2002/2002 [==============================] - 3s 1ms/step - loss: 1359.4093 - val_loss: 1381.2522\n",
      "Epoch 37/100\n",
      "2002/2002 [==============================] - 3s 1ms/step - loss: 1360.4341 - val_loss: 1387.5156\n",
      "Epoch 38/100\n",
      "2002/2002 [==============================] - 3s 2ms/step - loss: 1354.0577 - val_loss: 1381.3732\n",
      "Epoch 39/100\n",
      "2002/2002 [==============================] - 3s 1ms/step - loss: 1349.8522 - val_loss: 1386.9160\n",
      "Epoch 40/100\n",
      "2002/2002 [==============================] - 3s 1ms/step - loss: 1345.0157 - val_loss: 1412.4346\n",
      "Epoch 41/100\n",
      "2002/2002 [==============================] - 3s 1ms/step - loss: 1349.1349 - val_loss: 1390.9813\n",
      "Epoch 42/100\n",
      "2002/2002 [==============================] - 3s 1ms/step - loss: 1342.2625 - val_loss: 1396.2996\n",
      "Epoch 43/100\n",
      "2002/2002 [==============================] - 3s 1ms/step - loss: 1337.2628 - val_loss: 1410.5842\n",
      "Epoch 44/100\n",
      "2002/2002 [==============================] - 3s 1ms/step - loss: 1333.8923 - val_loss: 1396.8625\n",
      "Epoch 45/100\n",
      "2002/2002 [==============================] - 3s 1ms/step - loss: 1333.7991 - val_loss: 1391.0562\n",
      "Epoch 46/100\n",
      "2002/2002 [==============================] - 3s 1ms/step - loss: 1328.7783 - val_loss: 1396.3147\n",
      "Epoch 47/100\n",
      "2002/2002 [==============================] - 3s 1ms/step - loss: 1327.8247 - val_loss: 1383.3660\n",
      "Epoch 48/100\n",
      "2002/2002 [==============================] - 3s 1ms/step - loss: 1324.8711 - val_loss: 1399.9556\n",
      "Epoch 49/100\n",
      "2002/2002 [==============================] - 3s 1ms/step - loss: 1319.8453 - val_loss: 1392.9907\n",
      "Epoch 50/100\n",
      "2002/2002 [==============================] - 3s 1ms/step - loss: 1317.0328 - val_loss: 1414.4501\n",
      "Epoch 51/100\n",
      "2002/2002 [==============================] - 3s 1ms/step - loss: 1313.2476 - val_loss: 1390.9117\n",
      "Epoch 52/100\n",
      "2002/2002 [==============================] - 3s 1ms/step - loss: 1307.9072 - val_loss: 1412.9686\n",
      "Epoch 53/100\n",
      "2002/2002 [==============================] - 3s 2ms/step - loss: 1306.7285 - val_loss: 1423.4207\n",
      "Epoch 54/100\n",
      "2002/2002 [==============================] - 3s 1ms/step - loss: 1308.7701 - val_loss: 1424.7101\n",
      "Epoch 55/100\n",
      "2002/2002 [==============================] - 3s 1ms/step - loss: 1298.5140 - val_loss: 1395.8448\n",
      "Epoch 56/100\n",
      "2002/2002 [==============================] - 3s 1ms/step - loss: 1296.7352 - val_loss: 1386.0577\n",
      "Epoch 57/100\n",
      "2002/2002 [==============================] - 3s 1ms/step - loss: 1295.0359 - val_loss: 1409.1678\n",
      "Epoch 58/100\n",
      "2002/2002 [==============================] - 3s 1ms/step - loss: 1297.3914 - val_loss: 1380.5648\n",
      "Epoch 59/100\n",
      "2002/2002 [==============================] - 3s 2ms/step - loss: 1284.6035 - val_loss: 1404.9955\n",
      "Epoch 60/100\n",
      "2002/2002 [==============================] - 3s 2ms/step - loss: 1289.0049 - val_loss: 1413.4247\n",
      "Epoch 61/100\n",
      "2002/2002 [==============================] - 3s 2ms/step - loss: 1284.7626 - val_loss: 1427.4590\n",
      "Epoch 62/100\n",
      "2002/2002 [==============================] - 3s 2ms/step - loss: 1279.5988 - val_loss: 1410.7373\n",
      "Epoch 63/100\n",
      "2002/2002 [==============================] - 3s 2ms/step - loss: 1279.3441 - val_loss: 1407.0713\n",
      "Epoch 64/100\n",
      "2002/2002 [==============================] - 3s 2ms/step - loss: 1271.7031 - val_loss: 1401.5869\n",
      "Epoch 65/100\n",
      "2002/2002 [==============================] - 3s 2ms/step - loss: 1271.0790 - val_loss: 1429.6836\n",
      "Epoch 66/100\n",
      "2002/2002 [==============================] - 3s 1ms/step - loss: 1264.9988 - val_loss: 1415.8893\n",
      "Epoch 67/100\n",
      "2002/2002 [==============================] - 3s 1ms/step - loss: 1259.7184 - val_loss: 1405.3925\n",
      "Epoch 68/100\n",
      "2002/2002 [==============================] - 3s 1ms/step - loss: 1260.6945 - val_loss: 1401.9141\n",
      "Epoch 69/100\n",
      "2002/2002 [==============================] - 3s 1ms/step - loss: 1251.4326 - val_loss: 1390.2068\n",
      "Epoch 70/100\n",
      "2002/2002 [==============================] - 3s 1ms/step - loss: 1250.0309 - val_loss: 1435.7189\n",
      "Epoch 71/100\n",
      "2002/2002 [==============================] - 3s 2ms/step - loss: 1246.5066 - val_loss: 1433.1093\n",
      "Epoch 72/100\n",
      "2002/2002 [==============================] - 3s 2ms/step - loss: 1245.9486 - val_loss: 1413.2249\n",
      "Epoch 73/100\n",
      "2002/2002 [==============================] - 3s 2ms/step - loss: 1238.5402 - val_loss: 1413.5508\n",
      "Epoch 74/100\n",
      "2002/2002 [==============================] - 3s 2ms/step - loss: 1237.3978 - val_loss: 1402.2527\n",
      "Epoch 75/100\n",
      "2002/2002 [==============================] - 3s 1ms/step - loss: 1233.4700 - val_loss: 1411.5492\n",
      "Epoch 76/100\n",
      "2002/2002 [==============================] - 3s 1ms/step - loss: 1236.3232 - val_loss: 1421.7997\n",
      "Epoch 77/100\n",
      "2002/2002 [==============================] - 3s 1ms/step - loss: 1225.7089 - val_loss: 1427.2297\n",
      "Epoch 78/100\n",
      "2002/2002 [==============================] - 3s 1ms/step - loss: 1231.4708 - val_loss: 1408.0122\n",
      "Epoch 79/100\n",
      "2002/2002 [==============================] - 3s 1ms/step - loss: 1217.7782 - val_loss: 1408.9341\n",
      "Epoch 80/100\n",
      "2002/2002 [==============================] - 3s 1ms/step - loss: 1215.7852 - val_loss: 1419.8066\n",
      "Epoch 81/100\n",
      "2002/2002 [==============================] - 3s 1ms/step - loss: 1209.6459 - val_loss: 1401.5924\n",
      "Epoch 82/100\n",
      "2002/2002 [==============================] - 3s 1ms/step - loss: 1208.0305 - val_loss: 1443.4900\n",
      "Epoch 83/100\n",
      "2002/2002 [==============================] - 3s 1ms/step - loss: 1211.4255 - val_loss: 1403.4397\n",
      "Epoch 84/100\n",
      "2002/2002 [==============================] - 3s 1ms/step - loss: 1204.8149 - val_loss: 1436.7859\n",
      "Epoch 85/100\n",
      "2002/2002 [==============================] - 3s 1ms/step - loss: 1195.8741 - val_loss: 1464.9934\n",
      "Epoch 86/100\n",
      "2002/2002 [==============================] - 3s 1ms/step - loss: 1191.6388 - val_loss: 1420.9569\n",
      "Epoch 87/100\n",
      "2002/2002 [==============================] - 3s 1ms/step - loss: 1195.2782 - val_loss: 1403.4137\n",
      "Epoch 88/100\n",
      "2002/2002 [==============================] - 3s 1ms/step - loss: 1189.7500 - val_loss: 1423.9425\n",
      "Epoch 89/100\n",
      "2002/2002 [==============================] - 3s 2ms/step - loss: 1188.3295 - val_loss: 1448.8275\n",
      "Epoch 90/100\n",
      "2002/2002 [==============================] - 3s 1ms/step - loss: 1180.2860 - val_loss: 1413.0223\n",
      "Epoch 91/100\n",
      "2002/2002 [==============================] - 3s 1ms/step - loss: 1178.2679 - val_loss: 1420.0857\n",
      "Epoch 92/100\n",
      "2002/2002 [==============================] - 3s 1ms/step - loss: 1177.1086 - val_loss: 1445.3590\n",
      "Epoch 93/100\n",
      "2002/2002 [==============================] - 3s 1ms/step - loss: 1167.0664 - val_loss: 1413.4197\n",
      "Epoch 94/100\n",
      "2002/2002 [==============================] - 3s 1ms/step - loss: 1167.6069 - val_loss: 1430.1805\n",
      "Epoch 95/100\n",
      "2002/2002 [==============================] - 3s 1ms/step - loss: 1163.2017 - val_loss: 1443.1882\n",
      "Epoch 96/100\n",
      "2002/2002 [==============================] - 3s 1ms/step - loss: 1155.9756 - val_loss: 1440.5814\n",
      "Epoch 97/100\n",
      "2002/2002 [==============================] - 3s 1ms/step - loss: 1151.2311 - val_loss: 1451.3049\n",
      "Epoch 98/100\n",
      "2002/2002 [==============================] - 3s 1ms/step - loss: 1157.1199 - val_loss: 1432.8314\n",
      "Epoch 99/100\n",
      "2002/2002 [==============================] - 3s 1ms/step - loss: 1151.4233 - val_loss: 1437.4379\n",
      "Epoch 100/100\n",
      "2002/2002 [==============================] - 3s 1ms/step - loss: 1150.1416 - val_loss: 1440.0699\n"
     ]
    },
    {
     "data": {
      "text/plain": "<keras.src.callbacks.History at 0x2e3937f90>"
     },
     "execution_count": 100,
     "metadata": {},
     "output_type": "execute_result"
    }
   ],
   "source": [
    "model.fit(train.drop(columns=['my_dash_power', 'my_dash_dir', 'my_turn'], axis=1), train.loc[:,['my_dash_power', 'my_dash_dir', 'my_turn']], epochs=100, validation_data=(validation.drop(['my_dash_power', 'my_dash_dir', 'my_turn'], axis=1), validation.loc[:,['my_dash_power', 'my_dash_dir', 'my_turn']]))"
   ],
   "metadata": {
    "collapsed": false
   }
  },
  {
   "cell_type": "code",
   "execution_count": 79,
   "outputs": [
    {
     "name": "stderr",
     "output_type": "stream",
     "text": [
      "/Users/hasan/Documents/final-project/venv/lib/python3.11/site-packages/keras/src/engine/training.py:3000: UserWarning: You are saving your model as an HDF5 file via `model.save()`. This file format is considered legacy. We recommend using instead the native Keras format, e.g. `model.save('my_model.keras')`.\n",
      "  saving_api.save_model(\n"
     ]
    }
   ],
   "source": [
    "model.save('model.h5')"
   ],
   "metadata": {
    "collapsed": false
   }
  },
  {
   "cell_type": "code",
   "execution_count": 80,
   "outputs": [
    {
     "name": "stdout",
     "output_type": "stream",
     "text": [
      "501/501 [==============================] - 0s 356us/step - loss: 1409.6647 - mse: 1409.6647\n"
     ]
    },
    {
     "data": {
      "text/plain": "[1409.6646728515625, 1409.6646728515625]"
     },
     "execution_count": 80,
     "metadata": {},
     "output_type": "execute_result"
    }
   ],
   "source": [
    "model.evaluate(validation.drop(['my_dash_power', 'my_dash_dir', 'my_turn'], axis=1), validation.loc[:,['my_dash_power', 'my_dash_dir', 'my_turn']])"
   ],
   "metadata": {
    "collapsed": false
   }
  },
  {
   "cell_type": "code",
   "execution_count": 81,
   "outputs": [
    {
     "name": "stdout",
     "output_type": "stream",
     "text": [
      "501/501 [==============================] - 0s 323us/step\n"
     ]
    },
    {
     "data": {
      "text/plain": "array([[ 89.13286   ,   0.30985585, -20.11398   ],\n       [ 91.31894   ,   2.3412523 , -15.146709  ],\n       [ 79.151344  ,  -0.5145242 ,  -9.072315  ],\n       ...,\n       [ 26.573235  ,  -0.24591227,  -6.1114573 ],\n       [ 64.194664  ,   2.9087675 ,  29.494766  ],\n       [ 22.539923  ,   3.4484525 ,  42.01024   ]], dtype=float32)"
     },
     "execution_count": 81,
     "metadata": {},
     "output_type": "execute_result"
    }
   ],
   "source": [
    "model.predict(validation.drop(['my_dash_power', 'my_dash_dir', 'my_turn'], axis=1))"
   ],
   "metadata": {
    "collapsed": false
   }
  },
  {
   "cell_type": "code",
   "execution_count": 82,
   "outputs": [],
   "source": [
    "result_df = validation.loc[:,['my_dash_power', 'my_dash_dir', 'my_turn']]"
   ],
   "metadata": {
    "collapsed": false
   }
  },
  {
   "cell_type": "code",
   "execution_count": 83,
   "outputs": [
    {
     "data": {
      "text/plain": "    my_dash_power  my_dash_dir  my_turn\n3           100.0          6.0     37.0\n4           100.0          4.0    -39.0\n14          100.0          0.0    -49.0",
      "text/html": "<div>\n<style scoped>\n    .dataframe tbody tr th:only-of-type {\n        vertical-align: middle;\n    }\n\n    .dataframe tbody tr th {\n        vertical-align: top;\n    }\n\n    .dataframe thead th {\n        text-align: right;\n    }\n</style>\n<table border=\"1\" class=\"dataframe\">\n  <thead>\n    <tr style=\"text-align: right;\">\n      <th></th>\n      <th>my_dash_power</th>\n      <th>my_dash_dir</th>\n      <th>my_turn</th>\n    </tr>\n  </thead>\n  <tbody>\n    <tr>\n      <th>3</th>\n      <td>100.0</td>\n      <td>6.0</td>\n      <td>37.0</td>\n    </tr>\n    <tr>\n      <th>4</th>\n      <td>100.0</td>\n      <td>4.0</td>\n      <td>-39.0</td>\n    </tr>\n    <tr>\n      <th>14</th>\n      <td>100.0</td>\n      <td>0.0</td>\n      <td>-49.0</td>\n    </tr>\n  </tbody>\n</table>\n</div>"
     },
     "execution_count": 83,
     "metadata": {},
     "output_type": "execute_result"
    }
   ],
   "source": [
    "result_df.head(3)"
   ],
   "metadata": {
    "collapsed": false
   }
  },
  {
   "cell_type": "markdown",
   "source": [
    "save in result.csv"
   ],
   "metadata": {
    "collapsed": false
   }
  },
  {
   "cell_type": "code",
   "execution_count": 84,
   "outputs": [],
   "source": [
    "result_df.to_csv('result.csv', index=False)"
   ],
   "metadata": {
    "collapsed": false
   }
  },
  {
   "cell_type": "code",
   "execution_count": null,
   "outputs": [],
   "source": [],
   "metadata": {
    "collapsed": false
   }
  }
 ],
 "metadata": {
  "kernelspec": {
   "name": "venv\n",
   "language": "python",
   "display_name": "venv\n"
  },
  "language_info": {
   "codemirror_mode": {
    "name": "ipython",
    "version": 2
   },
   "file_extension": ".py",
   "mimetype": "text/x-python",
   "name": "python",
   "nbconvert_exporter": "python",
   "pygments_lexer": "ipython2",
   "version": "2.7.6"
  }
 },
 "nbformat": 4,
 "nbformat_minor": 0
}
